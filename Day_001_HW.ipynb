{
 "cells": [
  {
   "cell_type": "markdown",
   "metadata": {},
   "source": [
    "# D1：資料介紹與評估資料"
   ]
  },
  {
   "cell_type": "markdown",
   "metadata": {},
   "source": [
    "## 資料介紹"
   ]
  },
  {
   "cell_type": "markdown",
   "metadata": {},
   "source": [
    "資料來自於 Google 所開發的 quickdraw 小遊戲，使用者可以自由繪畫電腦所指定的題目，並讓電腦猜測你所畫的東西。"
   ]
  },
  {
   "cell_type": "markdown",
   "metadata": {},
   "source": [
    "## 1. 這筆資料為何重要"
   ]
  },
  {
   "cell_type": "markdown",
   "metadata": {},
   "source": [
    "要進行機器學習常見的問題就是需要大量的資料，而Google利用遊戲的方式吸引使用者，使用者在遊玩的同時即可產生的大量資料，利用這些資料進行訓練有助於未來電腦對於物品的辨別。"
   ]
  },
  {
   "cell_type": "markdown",
   "metadata": {},
   "source": [
    "## 2. 資料從何而來"
   ]
  },
  {
   "cell_type": "markdown",
   "metadata": {},
   "source": [
    "https://www.kaggle.com/google/tinyquickdraw"
   ]
  },
  {
   "cell_type": "markdown",
   "metadata": {},
   "source": [
    "資料來自於 https://quickdraw.withgoogle.com/"
   ]
  },
  {
   "cell_type": "markdown",
   "metadata": {},
   "source": [
    "## 3. 資料型態為何"
   ]
  },
  {
   "cell_type": "markdown",
   "metadata": {},
   "source": [
    "搜集來的資料為 ndjson 格式"
   ]
  },
  {
   "cell_type": "raw",
   "metadata": {
    "collapsed": true
   },
   "source": [
    "{ \n",
    "    \"key_id\":\"5891796615823360\",\n",
    "    \"word\":\"nose\",\n",
    "    \"countrycode\":\"AE\",\n",
    "    \"timestamp\":\"2017-03-01 20:41:36.70725 UTC\",\n",
    "    \"recognized\":True,\n",
    "    \"drawing\":[[[129,128,129,129,130,130,131,132,132,133,133,133,133,...]]]\n",
    "}"
   ]
  },
  {
   "cell_type": "markdown",
   "metadata": {},
   "source": [
    "## 4. 這組資料想解決的問題如何評估"
   ]
  },
  {
   "cell_type": "markdown",
   "metadata": {},
   "source": [
    "可拿電腦預測的結果與實際資料進行比較，再以準確率或是 contingency table 觀察資料間是否有經常性的比對錯誤等等。"
   ]
  }
 ],
 "metadata": {
  "kernelspec": {
   "display_name": "Python 3",
   "language": "python",
   "name": "python3"
  },
  "language_info": {
   "codemirror_mode": {
    "name": "ipython",
    "version": 3
   },
   "file_extension": ".py",
   "mimetype": "text/x-python",
   "name": "python",
   "nbconvert_exporter": "python",
   "pygments_lexer": "ipython3",
   "version": "3.7.2"
  }
 },
 "nbformat": 4,
 "nbformat_minor": 2
}
