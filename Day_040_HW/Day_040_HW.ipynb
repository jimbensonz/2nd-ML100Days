{
 "cells": [
  {
   "cell_type": "markdown",
   "metadata": {},
   "source": [
    "## [作業重點]\n",
    "使用 Sklearn 中的 Lasso, Ridge 模型，來訓練各種資料集，務必了解送進去模型訓練的**資料型態**為何，也請了解模型中各項參數的意義。\n",
    "\n",
    "機器學習的模型非常多種，但要訓練的資料多半有固定的格式，確保你了解訓練資料的格式為何，這樣在應用新模型時，就能夠最快的上手開始訓練！"
   ]
  },
  {
   "cell_type": "markdown",
   "metadata": {},
   "source": [
    "## 練習時間\n",
    "試著使用 sklearn datasets 的其他資料集 (boston, ...)，來訓練自己的線性迴歸模型，並加上適當的正則話來觀察訓練情形。"
   ]
  },
  {
   "cell_type": "code",
   "execution_count": 12,
   "metadata": {},
   "outputs": [],
   "source": [
    "import numpy as np\n",
    "import pandas as pd\n",
    "import matplotlib.pyplot as plt\n",
    "\n",
    "from sklearn import datasets, linear_model\n",
    "from sklearn.model_selection import train_test_split\n",
    "from sklearn.metrics import mean_squared_error, r2_score"
   ]
  },
  {
   "cell_type": "code",
   "execution_count": 70,
   "metadata": {},
   "outputs": [],
   "source": [
    "boston = datasets.load_boston()\n",
    "\n",
    "x_train, x_test, y_train, y_test = train_test_split(boston.data, boston.target, test_size=0.2, random_state=4)\n",
    "\n",
    "regr = linear_model.LinearRegression()\n",
    "regr.fit(x_train, y_train)\n",
    "\n",
    "y_pred = regr.predict(x_test)"
   ]
  },
  {
   "cell_type": "code",
   "execution_count": 73,
   "metadata": {},
   "outputs": [
    {
     "name": "stdout",
     "output_type": "stream",
     "text": [
      "[-1.15966452e-01  4.71249231e-02  8.25980146e-03  3.23404531e+00\n",
      " -1.66865890e+01  3.88410651e+00 -1.08974442e-02 -1.54129540e+00\n",
      "  2.93208309e-01 -1.34059383e-02 -9.06296429e-01  8.80823439e-03\n",
      " -4.57723846e-01]\n"
     ]
    }
   ],
   "source": [
    "regr_coef = regr.coef_\n",
    "print(regr_coef)"
   ]
  },
  {
   "cell_type": "code",
   "execution_count": 72,
   "metadata": {},
   "outputs": [
    {
     "name": "stdout",
     "output_type": "stream",
     "text": [
      "Mean squared error: 25.42\n"
     ]
    }
   ],
   "source": [
    "regr_mse = mean_squared_error(y_test, y_pred)\n",
    "print(\"Mean squared error: %.2f\"\n",
    "      % regr_mse)"
   ]
  },
  {
   "cell_type": "markdown",
   "metadata": {},
   "source": [
    "## LASSO"
   ]
  },
  {
   "cell_type": "code",
   "execution_count": 81,
   "metadata": {},
   "outputs": [],
   "source": [
    "lasso = linear_model.Lasso(alpha = 1)\n",
    "lasso.fit(x_train, y_train)\n",
    "\n",
    "y_pred = lasso.predict(x_test)"
   ]
  },
  {
   "cell_type": "code",
   "execution_count": 82,
   "metadata": {},
   "outputs": [
    {
     "name": "stdout",
     "output_type": "stream",
     "text": [
      "[-0.06494981  0.04581458 -0.          0.         -0.          1.18140024\n",
      "  0.01109101 -0.73695809  0.23350042 -0.01551065 -0.69270805  0.00763157\n",
      " -0.6927848 ]\n"
     ]
    }
   ],
   "source": [
    "lasso_coef = lasso.coef_\n",
    "print(lasso_coef)"
   ]
  },
  {
   "cell_type": "code",
   "execution_count": 83,
   "metadata": {},
   "outputs": [
    {
     "name": "stdout",
     "output_type": "stream",
     "text": [
      "Mean squared error: 28.95\n"
     ]
    }
   ],
   "source": [
    "print(\"Mean squared error: %.2f\"\n",
    "      % mean_squared_error(y_test, y_pred))"
   ]
  },
  {
   "cell_type": "markdown",
   "metadata": {},
   "source": [
    "## RIDGE"
   ]
  },
  {
   "cell_type": "code",
   "execution_count": 84,
   "metadata": {},
   "outputs": [],
   "source": [
    "ridge = linear_model.Ridge(alpha = 1)\n",
    "ridge.fit(x_train, y_train)\n",
    "\n",
    "y_pred = ridge.predict(x_test)"
   ]
  },
  {
   "cell_type": "code",
   "execution_count": 85,
   "metadata": {},
   "outputs": [
    {
     "name": "stdout",
     "output_type": "stream",
     "text": [
      "[-1.12499445e-01  4.79562332e-02 -2.40438147e-02  2.96199458e+00\n",
      " -9.33966118e+00  3.93079015e+00 -1.73821202e-02 -1.43347691e+00\n",
      "  2.75239392e-01 -1.38920708e-02 -8.31116943e-01  9.15637729e-03\n",
      " -4.66460539e-01]\n"
     ]
    }
   ],
   "source": [
    "ridge_coef = ridge.coef_\n",
    "print(ridge.coef_)"
   ]
  },
  {
   "cell_type": "code",
   "execution_count": 86,
   "metadata": {},
   "outputs": [
    {
     "name": "stdout",
     "output_type": "stream",
     "text": [
      "Mean squared error: 25.74\n"
     ]
    }
   ],
   "source": [
    "print(\"Mean squared error: %.2f\"\n",
    "      % mean_squared_error(y_test, y_pred))"
   ]
  },
  {
   "cell_type": "markdown",
   "metadata": {},
   "source": [
    "## Alpha Comparison between Lasso, Ridge"
   ]
  },
  {
   "cell_type": "code",
   "execution_count": 31,
   "metadata": {},
   "outputs": [],
   "source": [
    "alpha_list = [0.001, 0.005, 0.01, 0.05, 0.1, 0.5, 1.0]\n",
    "\n",
    "lasso_list = []\n",
    "ridge_list = []\n",
    "for alpha_val in alpha_list: \n",
    "    lasso = linear_model.Lasso(alpha = alpha_val)\n",
    "    lasso.fit(x_train, y_train)\n",
    "    y_pred = lasso.predict(x_test)\n",
    "    lasso_list.append(mean_squared_error(y_test, y_pred))\n",
    "    \n",
    "    ridge = linear_model.Ridge(alpha = alpha_val)\n",
    "    ridge.fit(x_train, y_train)\n",
    "    y_pred = ridge.predict(x_test)\n",
    "    ridge_list.append(mean_squared_error(y_test, y_pred))"
   ]
  },
  {
   "cell_type": "code",
   "execution_count": 69,
   "metadata": {},
   "outputs": [
    {
     "data": {
      "image/png": "[encoded data removed]",
      "text/plain": [
       "<Figure size 432x288 with 1 Axes>"
      ]
     },
     "metadata": {
      "needs_background": "light"
     },
     "output_type": "display_data"
    }
   ],
   "source": [
    "index = list(range(len(alpha_list)))\n",
    "regr_list = [regr_mse] * len(alpha_list)\n",
    "\n",
    "plots = plt.plot(index, lasso_list, index, ridge_list, regr_list)\n",
    "plt.legend(plots, ('Lasso', \"Ridge\", \"Regression\"))\n",
    "plt.xlabel(\"alpha\")\n",
    "plt.ylabel(\"MSE\")\n",
    "plt.xticks(index, alpha_list)\n",
    "plt.show()"
   ]
  },
  {
   "cell_type": "code",
   "execution_count": 87,
   "metadata": {},
   "outputs": [
    {
     "data": {
      "image/png": "[encoded data removed]",
      "text/plain": [
       "<Figure size 432x288 with 1 Axes>"
      ]
     },
     "metadata": {
      "needs_background": "light"
     },
     "output_type": "display_data"
    }
   ],
   "source": [
    "coef_index = list(range(len(regr_coef)))\n",
    "\n",
    "plots = plt.plot(coef_index, lasso_coef, coef_index, ridge_coef, regr_coef)\n",
    "plt.legend(plots, ('Lasso', \"Ridge\", \"Regression\"))\n",
    "plt.xlabel(\"coefficient\")\n",
    "plt.show()"
   ]
  },
  {
   "cell_type": "code",
   "execution_count": null,
   "metadata": {},
   "outputs": [],
   "source": []
  }
 ],
 "metadata": {
  "kernelspec": {
   "display_name": "Python 3",
   "language": "python",
   "name": "python3"
  },
  "language_info": {
   "codemirror_mode": {
    "name": "ipython",
    "version": 3
   },
   "file_extension": ".py",
   "mimetype": "text/x-python",
   "name": "python",
   "nbconvert_exporter": "python",
   "pygments_lexer": "ipython3",
   "version": "3.7.3"
  }
 },
 "nbformat": 4,
 "nbformat_minor": 2
}
